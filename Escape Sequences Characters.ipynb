{
 "cells": [
  {
   "cell_type": "code",
   "execution_count": 1,
   "metadata": {},
   "outputs": [
    {
     "name": "stdout",
     "output_type": "stream",
     "text": [
      "<class 'float'>\n",
      "<class 'str'>\n",
      "<class 'list'>\n",
      "<class 'tuple'>\n",
      "<class 'bool'>\n"
     ]
    }
   ],
   "source": [
    "#-------------------- Some Data Types Overviews\n",
    "# type is a built-in function\n",
    "print(type(-100.9595))  #flot\n",
    "print(type(\"Hello Python\")) # str => string\n",
    "print(type([1,2,3,4,5]))    #list => List\n",
    "print(type((1,2,3,4,5)))    # tuple => Tuple\n",
    "print(type(2==2))"
   ]
  },
  {
   "cell_type": "code",
   "execution_count": 2,
   "metadata": {},
   "outputs": [
    {
     "name": "stdout",
     "output_type": "stream",
     "text": [
      "\n",
      "Here is a list of the Python keywords.  Enter any keyword to get more help.\n",
      "\n",
      "False               class               from                or\n",
      "None                continue            global              pass\n",
      "True                def                 if                  raise\n",
      "and                 del                 import              return\n",
      "as                  elif                in                  try\n",
      "assert              else                is                  while\n",
      "async               except              lambda              with\n",
      "await               finally             nonlocal            yield\n",
      "break               for                 not                 \n",
      "\n"
     ]
    }
   ],
   "source": [
    "help(\"keywords\")   # to find the booked names"
   ]
  },
  {
   "cell_type": "code",
   "execution_count": 13,
   "metadata": {},
   "outputs": [
    {
     "name": "stdout",
     "output_type": "stream",
     "text": [
      "1\n",
      "2\n",
      "3\n"
     ]
    }
   ],
   "source": [
    "a,b,c = 1,2,3\n",
    "print(a) ; print(b) ; print(c)"
   ]
  },
  {
   "cell_type": "code",
   "execution_count": 12,
   "metadata": {},
   "outputs": [
    {
     "ename": "ValueError",
     "evalue": "not enough values to unpack (expected 3, got 2)",
     "output_type": "error",
     "traceback": [
      "\u001b[1;31m---------------------------------------------------------------------------\u001b[0m",
      "\u001b[1;31mValueError\u001b[0m                                Traceback (most recent call last)",
      "Cell \u001b[1;32mIn[12], line 1\u001b[0m\n\u001b[1;32m----> 1\u001b[0m a,b,c \u001b[39m=\u001b[39m \u001b[39m1\u001b[39m,\u001b[39m2\u001b[39m\n\u001b[0;32m      2\u001b[0m \u001b[39mprint\u001b[39m(a) ; \u001b[39mprint\u001b[39m(b) ; \u001b[39mprint\u001b[39m(c)\n",
      "\u001b[1;31mValueError\u001b[0m: not enough values to unpack (expected 3, got 2)"
     ]
    }
   ],
   "source": [
    "a,b,c = 1,2\n",
    "print(a) ; print(b) ; print(c)"
   ]
  },
  {
   "cell_type": "code",
   "execution_count": 14,
   "metadata": {},
   "outputs": [
    {
     "ename": "ValueError",
     "evalue": "too many values to unpack (expected 3)",
     "output_type": "error",
     "traceback": [
      "\u001b[1;31m---------------------------------------------------------------------------\u001b[0m",
      "\u001b[1;31mValueError\u001b[0m                                Traceback (most recent call last)",
      "Cell \u001b[1;32mIn[14], line 1\u001b[0m\n\u001b[1;32m----> 1\u001b[0m a,b,c \u001b[39m=\u001b[39m \u001b[39m1\u001b[39m,\u001b[39m2\u001b[39m,\u001b[39m3\u001b[39m,\u001b[39m4\u001b[39m\n\u001b[0;32m      2\u001b[0m \u001b[39mprint\u001b[39m(a) ; \u001b[39mprint\u001b[39m(b) ; \u001b[39mprint\u001b[39m(c)\n",
      "\u001b[1;31mValueError\u001b[0m: too many values to unpack (expected 3)"
     ]
    }
   ],
   "source": [
    "a,b,c = 1,2,3,4\n",
    "print(a) ; print(b) ; print(c)"
   ]
  },
  {
   "cell_type": "code",
   "execution_count": 20,
   "metadata": {},
   "outputs": [
    {
     "name": "stdout",
     "output_type": "stream",
     "text": [
      "hellworld\n",
      "hello      I love      python\n",
      "helloI love python\n"
     ]
    }
   ],
   "source": [
    "# Escape Sequences Characters\n",
    "# back slash \\  which is call escape characters\n",
    "#---------------------------------\n",
    "# back slash b  \\b => bake space\n",
    "print(\"hello\\bworld\")  # will remove the o \n",
    "#---------------------------------\n",
    "#\\newline  => Escape new line + \\\n",
    "print(\"hello\\\n",
    "      I love\\\n",
    "      python\")\n",
    "print(\"hello\\\n",
    "I love \\\n",
    "python\")\n"
   ]
  },
  {
   "cell_type": "code",
   "execution_count": 27,
   "metadata": {},
   "outputs": [
    {
     "name": "stdout",
     "output_type": "stream",
     "text": [
      "hello world \"\n",
      "hello world \\\n"
     ]
    }
   ],
   "source": [
    "# Escape Back \n",
    "print(\"hello world \\\"\")\n",
    "print(\"hello world \\\\\") #  to print the back slash it self"
   ]
  },
  {
   "cell_type": "code",
   "execution_count": 31,
   "metadata": {},
   "outputs": [
    {
     "name": "stdout",
     "output_type": "stream",
     "text": [
      "I Love single Quotes 'test'\n",
      "I Love single Quotes \"test\" \n"
     ]
    }
   ],
   "source": [
    "# Escape single Quotes  => \\'\n",
    "print('I Love single Quotes \\'test\\'')\n",
    "#python will consider the string from I Love Back Slash  \n",
    "\n",
    "# Escape Double Quotes => \\\"\n",
    "print(\"I Love single Quotes \\\"test\\\" \")\n",
    "#python will consider the string from I Love Back Slash "
   ]
  },
  {
   "cell_type": "code",
   "execution_count": 32,
   "metadata": {},
   "outputs": [
    {
     "name": "stdout",
     "output_type": "stream",
     "text": [
      "Hello World \n",
      " second line \n"
     ]
    }
   ],
   "source": [
    "#  Line Feed \\n  to print n  new line \n",
    "print(\"Hello World \\n second line \")"
   ]
  },
  {
   "cell_type": "code",
   "execution_count": 34,
   "metadata": {},
   "outputs": [
    {
     "name": "stdout",
     "output_type": "stream",
     "text": [
      "Abcd56\n"
     ]
    }
   ],
   "source": [
    "# Carriage Return\n",
    "print(\"123456\\rAbcd\")\n",
    "'''\n",
    "this code takes the letters and put them in the beginning with removed \n",
    "number with the same number of letters\n",
    "'''  "
   ]
  },
  {
   "cell_type": "code",
   "execution_count": 35,
   "metadata": {},
   "outputs": [
    {
     "name": "stdout",
     "output_type": "stream",
     "text": [
      "Hello\tPython\n"
     ]
    }
   ],
   "source": [
    "# Horizontal Tab\n",
    "print(\"Hello\\tPython\")\n"
   ]
  },
  {
   "cell_type": "code",
   "execution_count": 36,
   "metadata": {},
   "outputs": [
    {
     "name": "stdout",
     "output_type": "stream",
     "text": [
      "O\n"
     ]
    }
   ],
   "source": [
    "# Charachter Hex Value\n",
    "print(\"\\x4F\")"
   ]
  }
 ],
 "metadata": {
  "kernelspec": {
   "display_name": "Python 3",
   "language": "python",
   "name": "python3"
  },
  "language_info": {
   "codemirror_mode": {
    "name": "ipython",
    "version": 3
   },
   "file_extension": ".py",
   "mimetype": "text/x-python",
   "name": "python",
   "nbconvert_exporter": "python",
   "pygments_lexer": "ipython3",
   "version": "3.11.2"
  },
  "orig_nbformat": 4
 },
 "nbformat": 4,
 "nbformat_minor": 2
}
